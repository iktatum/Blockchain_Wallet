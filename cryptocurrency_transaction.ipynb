{
 "cells": [
  {
   "cell_type": "code",
   "execution_count": 1,
   "metadata": {},
   "outputs": [],
   "source": [
    "import os\n",
    "from web3 import Web3\n",
    "from dotenv import load_dotenv\n",
    "import subprocess\n",
    "import json\n",
    "from constants import *\n",
    "from bit import PrivateKeyTestnet\n",
    "from eth_account import Account\n",
    "from pathlib import Path\n",
    "from getpass import getpass\n",
    "from pprint import pprint\n",
    "from bit.network import NetworkAPI\n",
    "from web3.middleware import geth_poa_middleware\n",
    "from eth_account import Account\n",
    "load_dotenv()\n",
    "\n",
    "w3 = Web3(Web3.HTTPProvider(\"http://127.0.0.1:8545\"))\n",
    "# account_one = Account.from_key(private_key)\n",
    "# private_key = os.getenv(\"PRIVATE_KEY\")\n",
    "# account_one = Account.from_key(private_key)\n",
    "# Windows\n",
    "mnemonic = \"coin toddler obtain aisle gold song cage twin gift level multiply fault\" "
   ]
  },
  {
   "cell_type": "code",
   "execution_count": 2,
   "metadata": {},
   "outputs": [],
   "source": [
    "def derive_wallets(coin,mnemonic=mnemonic,numderive=3):\n",
    "    command = f'php derive -g --mnemonic=\"{mnemonic}\" --coin={coin} --numderive{numderive} --cols=path,address,privkey,pubkey --format=json'\n",
    "    # MAC\n",
    "    # command = './derive -g --mnemonic=\"YOUR MNEMONIC PHRASE\" --cols=path,address,privkey,pubkey'\n",
    "    p = subprocess.Popen(command, stdout=subprocess.PIPE, shell=True)\n",
    "    (output, err) = p.communicate()\n",
    "    p_status = p.wait()\n",
    "    keys = json.loads(output)\n",
    "    return keys"
   ]
  },
  {
   "cell_type": "code",
   "execution_count": 3,
   "metadata": {},
   "outputs": [],
   "source": [
    "coins ={BTCTEST: derive_wallets(BTCTEST),ETH: derive_wallets(ETH)}"
   ]
  },
  {
   "cell_type": "code",
   "execution_count": 4,
   "metadata": {},
   "outputs": [
    {
     "data": {
      "text/plain": [
       "'cTzLmSYvGQ6YKnfxBLNj6i43dP7S7b4YR1T7kDDR87XGk4zGPzzJ'"
      ]
     },
     "execution_count": 4,
     "metadata": {},
     "output_type": "execute_result"
    }
   ],
   "source": [
    "coins[BTCTEST][1]['privkey']"
   ]
  },
  {
   "cell_type": "code",
   "execution_count": 5,
   "metadata": {},
   "outputs": [
    {
     "data": {
      "text/plain": [
       "<PrivateKeyTestnet: mpYCVg4M7rckvDLYPW5WVZVNcY5bBLrbcu>"
      ]
     },
     "execution_count": 5,
     "metadata": {},
     "output_type": "execute_result"
    }
   ],
   "source": [
    "def priv_key_to_account(coin, privkey):\n",
    "    if coin == BTCTEST:\n",
    "        return PrivateKeyTestnet(privkey)\n",
    "    if coin == ETH:\n",
    "        return Account.privateKeyToAccount(privkey)\n",
    "\n",
    "priv_key_to_account(BTCTEST,coins[BTCTEST][0]['privkey'])\n"
   ]
  },
  {
   "cell_type": "code",
   "execution_count": 6,
   "metadata": {},
   "outputs": [
    {
     "data": {
      "text/plain": [
       "<eth_account.signers.local.LocalAccount at 0x1ea911ac388>"
      ]
     },
     "execution_count": 6,
     "metadata": {},
     "output_type": "execute_result"
    }
   ],
   "source": [
    "priv_key_to_account(ETH, coins[ETH][0]['privkey'])"
   ]
  },
  {
   "cell_type": "code",
   "execution_count": 7,
   "metadata": {},
   "outputs": [],
   "source": [
    "def create_tx(coin,account,to,amount):\n",
    "    if coin == ETH:\n",
    "        value = w3.toWei(amount, \"ether\") # convert 1.2 ETH to 120000000000 wei\n",
    "        gasEstimate = w3.eth.estimateGas(\n",
    "        {\"from\": account.address, \"to\": to, \"amount\": value}\n",
    "         )\n",
    "        return {\n",
    "            \"from\": account.address,\n",
    "            \"to\": to,\n",
    "            \"value\": value,\n",
    "            \"gasPrice\": w3.eth.generateGasPrice,\n",
    "            \"gas\": gasEstimate,\n",
    "            \"nonce\": w3.eth.getTransactionCount(account.address),\n",
    "            \"chainID\": w3.net.chainId\n",
    "            }\n",
    "    if coin == BTCTEST:\n",
    "        return PrivateKeyTestnet.prepare_transaction(account.address, [(to, amount, BTC)])\n",
    "    "
   ]
  },
  {
   "cell_type": "code",
   "execution_count": 8,
   "metadata": {},
   "outputs": [],
   "source": [
    "def send_tx(coin, account, to, amount):\n",
    "        if coin == ETH:\n",
    "            raw_tx = create_tx(coin, account, to, amount)\n",
    "            signed = account.signTransaction(raw_tx)\n",
    "            return w3.eth.sendRawTransaction(signed.rawTransaction)\n",
    "        if coin == BTCTEST:\n",
    "            raw_tx = create_tx(coin, account, to, amount)\n",
    "            signed = account.sign_transaction(raw_tx)\n",
    "            return NetworkAPI.broadcast_tx_testnet(signed)\n",
    "   "
   ]
  },
  {
   "cell_type": "code",
   "execution_count": 9,
   "metadata": {},
   "outputs": [
    {
     "name": "stdout",
     "output_type": "stream",
     "text": [
      "{'btc-test': [{'address': 'mpYCVg4M7rckvDLYPW5WVZVNcY5bBLrbcu',\n",
      "               'path': \"m/44'/1'/0'/0/0\",\n",
      "               'privkey': 'cS8nySisim8YqFfs5HYy1xmMhWteCT6mv5G32wSD2c5smsKVMmap',\n",
      "               'pubkey': '025f75bba0f85c9cf2420aeb52aa3dd936c596de7b44a3c7d59b183910fa897ede'},\n",
      "              {'address': 'my93VYvn9TzXZWwKm15WHcRjTkknZcM3ge',\n",
      "               'path': \"m/44'/1'/0'/0/1\",\n",
      "               'privkey': 'cTzLmSYvGQ6YKnfxBLNj6i43dP7S7b4YR1T7kDDR87XGk4zGPzzJ',\n",
      "               'pubkey': '022f0ea49f93c5cd06617714e83d8e7bda49bd273f8959a49f7ea623e370424c81'},\n",
      "              {'address': 'my1tXjgvwiP5DCwovsZi3q4B8KNRFRPTuw',\n",
      "               'path': \"m/44'/1'/0'/0/2\",\n",
      "               'privkey': 'cTznrDmcpErxrdzD9VHufW3iBuMZCL12LLrT3BJdncQNr1jma2q9',\n",
      "               'pubkey': '03f0d1e992754dfbc612a5a752037e461294107888cfceb269443d9f46d5ac5e97'},\n",
      "              {'address': 'n3dKz37JZB4xopfb91SQJgV6EFi5G9eYUd',\n",
      "               'path': \"m/44'/1'/0'/0/3\",\n",
      "               'privkey': 'cSZ9ru9hdZ93gLXpeSCxPUA75rZzbHjXXzNsMNTqDg3cPGnxk8Cq',\n",
      "               'pubkey': '02aa39728e866cd434ead9ca991dddc927c6b45bf4aa27438ce46c65e9e7760583'},\n",
      "              {'address': 'msffP37jd7KKjdv7yVqjNkvHe4ghWk23PP',\n",
      "               'path': \"m/44'/1'/0'/0/4\",\n",
      "               'privkey': 'cQcfvnApYWPSFCPmaVtcF3PQzaByieSZY2v4mDUahpT8XYfUVgTU',\n",
      "               'pubkey': '02119b47f42313126bccdd321697f5923887009eb64e4db8d92dcf3d1210a65bfc'},\n",
      "              {'address': 'mjbcVGqBSoK8HH7kJtJGXrnXUMn5aWtBTd',\n",
      "               'path': \"m/44'/1'/0'/0/5\",\n",
      "               'privkey': 'cNSaMPGJ98MEZaij5aBAVYFdnTgwM9x8vVS7cQ3wD1CTLiBSJBBi',\n",
      "               'pubkey': '0338a7d1a05bf67599dd130a3e031fba7e8747e43f236511255a6fa61406d5a3c1'},\n",
      "              {'address': 'n2gk5d5ceTXmN7w9hTWR7NZEdSC47anVaa',\n",
      "               'path': \"m/44'/1'/0'/0/6\",\n",
      "               'privkey': 'cQAgNd9DWNz2R9GTJTieZytSTnLfJC9harmg9gpe2yLeY2Q2NFzN',\n",
      "               'pubkey': '02026d361c04d7a47dc5e8e9d08f2a63d0ef0a51e27d14db2561b146afdbf2968b'},\n",
      "              {'address': 'mx3VoGjtfNDFfCUjhacfZ6YchjQmCuYyQ5',\n",
      "               'path': \"m/44'/1'/0'/0/7\",\n",
      "               'privkey': 'cQSX26DxmxnqrZiUdZ5tHJMR6PrDWAssd7PuNTNoKuVMQWCmhmc2',\n",
      "               'pubkey': '039b1df713ffcbc1b4717ae66a341704f0e7df6e6fb2f0d22c51bbabc62e7c5c2e'},\n",
      "              {'address': 'myuCP6Ucex3kVuiKrxa3ntFHuwiSz5GeDk',\n",
      "               'path': \"m/44'/1'/0'/0/8\",\n",
      "               'privkey': 'cSyWb1kLRKXMuSqJ1WTCp6ueQyAKxizk19Q89khwjmiyheVszSbE',\n",
      "               'pubkey': '02f66a0d0c888646c7c3d872db2e23fad4bd79b731903ec27059c6a6ffd5882d7f'},\n",
      "              {'address': 'n26G38gdm4JcGZhVADzCQ95W1NgJVx9zWS',\n",
      "               'path': \"m/44'/1'/0'/0/9\",\n",
      "               'privkey': 'cVantjk8J1JM55UKCU1Pw9LQ2stNreyVxp6Mpu3Tg7eRJA8oBEk9',\n",
      "               'pubkey': '02bf4f3d0840e5ecc728f64c852f6fe7679808149d7b335a4041f3fa9bf468e3cf'}],\n",
      " 'eth': [{'address': '0x9304cFAB26D737B1347EcD3E91eb46E47817438d',\n",
      "          'path': \"m/44'/60'/0'/0/0\",\n",
      "          'privkey': '0x9e6f9fb5086cc6d1c5ee339f5b8ea61109f9c23d6d60d589a6fb8f9d48d0fcc6',\n",
      "          'pubkey': '02b34937e7c7d48630f6c9878efcd46748c9f24558ee2b578acb7d83a07ddcf026'},\n",
      "         {'address': '0x99c6DEB11ca19ac7cE011529A320C6fFc2abFC8a',\n",
      "          'path': \"m/44'/60'/0'/0/1\",\n",
      "          'privkey': '0xe0b08fffc209b277a03725b05c355f91f5b126f99ba1ac4a46fb6ee6516cb528',\n",
      "          'pubkey': '0270f268c82123b275b6c9ca6a5b1b2cf9e09e888a9c16390d6fc91ef4c57f90fd'},\n",
      "         {'address': '0x5395d50d4bd4d5709d413004a6b62D8ad7c15dC7',\n",
      "          'path': \"m/44'/60'/0'/0/2\",\n",
      "          'privkey': '0xe2ad4e7d1a2b73fdeabd80c30c3cc8cbe90e5da8a93942ae52b94fa2fd7324a4',\n",
      "          'pubkey': '02b01af4e0d23c85b5eda4373127a1ea2d2f18390023e5c8cce62a665fa7a76d6e'},\n",
      "         {'address': '0x6d6EE0AA4CBbfe9F9363ef5664afe3591C6d486a',\n",
      "          'path': \"m/44'/60'/0'/0/3\",\n",
      "          'privkey': '0x36ab94c87137df1e13280508c2fcced0f56732e39bfb068d306b3ff2b96ce2b4',\n",
      "          'pubkey': '02d65563c2cf7233bbdae9176216e8fc36664cd6bd2799d004ed83a091ad17169e'},\n",
      "         {'address': '0xA887654a29198acfe898a09d662A2f3A2F4f61a6',\n",
      "          'path': \"m/44'/60'/0'/0/4\",\n",
      "          'privkey': '0x26f71f43df20f2213a7cf54d03464c4c73d4614e563fbcf7f754d32caf3a6c63',\n",
      "          'pubkey': '03d6947341dc08d9ec253ed81b4ab4b6b5b66e56bb0cf3c9a2f9c3f89b5d1f4392'},\n",
      "         {'address': '0x1371C16B6dc589B934fdcb59b97aE27A84c34aA0',\n",
      "          'path': \"m/44'/60'/0'/0/5\",\n",
      "          'privkey': '0xcb62a8ae24a136ac2b175dc68442d1942e27c4526572926199df688fdcdcb07e',\n",
      "          'pubkey': '02271838eeea7b82a73752d175dece785d741a06636fd7921629867cf990cd35dc'},\n",
      "         {'address': '0x9e29fa601Ad6748acdad7640788c5dd2e115fE7C',\n",
      "          'path': \"m/44'/60'/0'/0/6\",\n",
      "          'privkey': '0x1218ec1e58f6bd78a41beb01bc3dd3d3dd29e3cf9b65a6186a4fb7f725240377',\n",
      "          'pubkey': '0265f0d535033c3d899e7a145dc6d2812626a78026bbe2ef6d270b15a2204efbc7'},\n",
      "         {'address': '0x141c97685Cea9809e96445653aA374e8fBB64d42',\n",
      "          'path': \"m/44'/60'/0'/0/7\",\n",
      "          'privkey': '0xd979ac608ceaa8ae35e463786a2b55c684035f8abe8cbf9b526403fb615adc0f',\n",
      "          'pubkey': '024ee9622c6c2a03a77cf6c047742ec4f5c6d925ecb026e279a638072434edb57e'},\n",
      "         {'address': '0x761FD03c4a4117CA6b38081Ed8eb65373DD1F1BA',\n",
      "          'path': \"m/44'/60'/0'/0/8\",\n",
      "          'privkey': '0xd7a8745bc893ce12bad79d930569a449564a02c7f8b547f5c3f28f7bc73202b6',\n",
      "          'pubkey': '0290855217664f088358ff6e7f8aa1bc47962c6f46a8a0e59bf5b90d2ed3ec8703'},\n",
      "         {'address': '0xA6Dc6D3Ba7C3BF733a3088F4F70e1053193094A6',\n",
      "          'path': \"m/44'/60'/0'/0/9\",\n",
      "          'privkey': '0x580b117d0b6ed283cb4c48e9449edf6571c96e0a8e83a2ddf018db20ed189dfa',\n",
      "          'pubkey': '023e5df14b7c04b37c9303b982a6c8520920b6d968640d6c561ce9c0fc37b05eac'}]}\n"
     ]
    }
   ],
   "source": [
    "\n",
    "pprint(coins)"
   ]
  },
  {
   "cell_type": "code",
   "execution_count": 24,
   "metadata": {},
   "outputs": [],
   "source": [
    "private_key = coins[ETH][0]['privkey']\n",
    "#send_tx(ETH,priv_key_to_account(ETH,private_key),\"0x99c6DEB11ca19ac7cE011529A320C6fFc2abFC8a\",1000)"
   ]
  },
  {
   "cell_type": "code",
   "execution_count": 23,
   "metadata": {},
   "outputs": [],
   "source": [
    "#send_tx(ETH,priv_key_to_account(ETH,private_key),\"\",1000)"
   ]
  },
  {
   "cell_type": "code",
   "execution_count": null,
   "metadata": {},
   "outputs": [],
   "source": []
  }
 ],
 "metadata": {
  "kernelspec": {
   "display_name": "Python 3",
   "language": "python",
   "name": "python3"
  },
  "language_info": {
   "codemirror_mode": {
    "name": "ipython",
    "version": 3
   },
   "file_extension": ".py",
   "mimetype": "text/x-python",
   "name": "python",
   "nbconvert_exporter": "python",
   "pygments_lexer": "ipython3",
   "version": "3.7.6"
  }
 },
 "nbformat": 4,
 "nbformat_minor": 4
}
